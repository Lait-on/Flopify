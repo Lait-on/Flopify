{
 "cells": [
  {
   "cell_type": "code",
   "execution_count": 1,
   "metadata": {},
   "outputs": [],
   "source": [
    "import click, random, os, pickle, time, sys\n",
    "import google.oauth2.credentials\n",
    "from googleapiclient.discovery import build\n",
    "from googleapiclient.errors import HttpError\n",
    "from google_auth_oauthlib.flow import InstalledAppFlow\n",
    "from google.auth.transport.requests import Request\n",
    "from pathlib import Path\n",
    "import json\n",
    "import db\n",
    "import isodate\n"
   ]
  },
  {
   "cell_type": "code",
   "execution_count": 2,
   "metadata": {},
   "outputs": [],
   "source": [
    "SCOPES = ['https://www.googleapis.com/auth/youtube.readonly']\n",
    "API_SERVICE_NAME = 'youtube'\n",
    "API_VERSION = 'v3'\n",
    "\n",
    "# Gestion des chemins pour Windows\n",
    "HOME = str(Path.home())\n",
    "CACHE_CREDENTIALS_DIR = os.path.join(HOME, \".ytube\")\n",
    "CACHE_CREDENTIALS_FILE = os.path.join(CACHE_CREDENTIALS_DIR, \"token.pickle\")\n",
    "\n",
    "# Permet les connexions non sécurisées pour le développement local\n",
    "os.environ['OAUTHLIB_INSECURE_TRANSPORT'] = '1'\n"
   ]
  },
  {
   "cell_type": "code",
   "execution_count": 3,
   "metadata": {},
   "outputs": [
    {
     "name": "stdout",
     "output_type": "stream",
     "text": [
      "Please visit this URL to authorize this application: https://accounts.google.com/o/oauth2/auth?response_type=code&client_id=279167112900-c356bf03cvttterb16sbtfa74gnpbote.apps.googleusercontent.com&redirect_uri=http%3A%2F%2Flocalhost%3A62052%2F&scope=https%3A%2F%2Fwww.googleapis.com%2Fauth%2Fyoutube.readonly&state=6eeAXIrj3ejmYtqIKwbyUplZryslet&access_type=offline&prompt=consent\n"
     ]
    }
   ],
   "source": [
    "def get_authenticated_service(CLIENT_SECRETS_FILE):\n",
    "    credentials = None\n",
    "\n",
    "    # Création du dossier de cache si inexistant\n",
    "    if not os.path.exists(CACHE_CREDENTIALS_DIR):\n",
    "        os.makedirs(CACHE_CREDENTIALS_DIR)\n",
    "\n",
    "    # Chargement des credentials s'ils existent\n",
    "    if os.path.exists(CACHE_CREDENTIALS_FILE):\n",
    "        with open(CACHE_CREDENTIALS_FILE, 'rb') as token:\n",
    "            credentials = pickle.load(token)\n",
    "\n",
    "    # Rafraîchissement ou obtention de nouveaux credentials\n",
    "    if not credentials or not credentials.valid:\n",
    "        \"\"\"if credentials and credentials.expired and credentials.refresh_token:\n",
    "            credentials.refresh(Request())\n",
    "        else:\"\"\"\n",
    "        flow = InstalledAppFlow.from_client_secrets_file(CLIENT_SECRETS_FILE, SCOPES)\n",
    "        credentials = flow.run_local_server(port=0, access_type='offline', prompt='consent')\n",
    "\n",
    "        # Sauvegarde des nouveaux credentials\n",
    "        with open(CACHE_CREDENTIALS_FILE, 'wb') as token:\n",
    "            pickle.dump(credentials, token)\n",
    "\n",
    "    return build(API_SERVICE_NAME, API_VERSION, credentials=credentials)\n",
    "\n",
    "# Authentification\n",
    "service = get_authenticated_service(\"creds.json\")"
   ]
  },
  {
   "cell_type": "code",
   "execution_count": 4,
   "metadata": {},
   "outputs": [],
   "source": [
    "def search_low_view_music(service, query=\"music\", max_results=50, view_threshold=1000, topic=\"\", coord=\"28.6139,77.2088\", rad=\"500km\", page_token=None):\n",
    "    request = service.search().list(\n",
    "        q=query,\n",
    "        part=\"snippet\",\n",
    "        type=\"video\",\n",
    "        maxResults=max_results,\n",
    "        location=coord,\n",
    "        locationRadius=rad,\n",
    "        topicId=topic,\n",
    "        pageToken=page_token  # Ajout du token de page\n",
    "    )\n",
    "    response = request.execute()\n",
    "\n",
    "    next_page_token = response.get(\"nextPageToken\")  # Récupère le token de la page suivante\n",
    "    video_ids = [item[\"id\"][\"videoId\"] for item in response[\"items\"]]\n",
    "\n",
    "    request = service.videos().list(\n",
    "        part=\"snippet,statistics,contentDetails\",\n",
    "        id=\",\".join(video_ids)\n",
    "    )\n",
    "    response = request.execute()\n",
    "\n",
    "    low_view_videos = []\n",
    "    strong_view_videos = []\n",
    "    for video in response[\"items\"]:\n",
    "        view_count = int(video[\"statistics\"].get(\"viewCount\", 0))\n",
    "        duration = video[\"contentDetails\"].get(\"duration\", None)\n",
    "        if duration is None:\n",
    "            continue  # Ignore les vidéos sans durée\n",
    "\n",
    "        video_data = {\n",
    "            \"title\": video[\"snippet\"][\"title\"],\n",
    "            \"views\": view_count,\n",
    "            \"duration\": duration,\n",
    "            \"url\": video[\"id\"]\n",
    "        }\n",
    "\n",
    "        if view_count < view_threshold:\n",
    "            low_view_videos.append(video_data)\n",
    "        else:\n",
    "            strong_view_videos.append(video_data)\n",
    "\n",
    "    return low_view_videos, strong_view_videos, next_page_token  # Retourne aussi le token\n"
   ]
  },
  {
   "cell_type": "code",
   "execution_count": 5,
   "metadata": {},
   "outputs": [],
   "source": [
    "def format_duration(iso_duration):\n",
    "    duration = isodate.parse_duration(iso_duration)  # Convertit en objet timedelta\n",
    "    return duration.seconds\n"
   ]
  },
  {
   "cell_type": "code",
   "execution_count": 6,
   "metadata": {},
   "outputs": [],
   "source": [
    "topics = [(\"hiphop\", \"/m/0glt670\"), (\"jazz\",\"/m/03_d0\"),(\"inde\",\"/m/05rwpb\"),(\"electro\",\"/m/02lkt\"),(\"pop\",\"/m/064t9\"),(\"rock\",\"/m/06by7\")]\n",
    "coordonnée= [(\"france\",\"48.8566,2.3522\", \"500km\"), (\"Copenhagen\", \"55.6761,12.5683\"), (\"\",\"28.6139,77.2088\"), (\"UK\", \"51.5072,0.1276\", \"200km\")]"
   ]
  },
  {
   "cell_type": "code",
   "execution_count": 7,
   "metadata": {},
   "outputs": [],
   "source": [
    "page_token = None\n",
    "all_results = []\n",
    "for i in topics:\n",
    "    for _ in range(5):  # Faire plusieurs requêtes pour obtenir plus de variété\n",
    "        m_low, m_strong, page_token = search_low_view_music(service, query=\"-live|Live|IA|ia|short\", view_threshold=20000, topic=i[1], coord=coordonnée[0][1], rad=coordonnée[0][2], page_token=page_token)\n",
    "        all_results.extend(m_low)\n",
    "        if not page_token:\n",
    "            break  # Arrêter si plus de pages disponibles\n"
   ]
  },
  {
   "cell_type": "code",
   "execution_count": 8,
   "metadata": {},
   "outputs": [],
   "source": [
    "res = []\n",
    "for k in all_results:\n",
    "        if format_duration(k[\"duration\"])>120 and format_duration(k[\"duration\"])<600:\n",
    "            res.append((k[\"url\"], coordonnée[0][0], i[0]))"
   ]
  },
  {
   "cell_type": "code",
   "execution_count": 9,
   "metadata": {},
   "outputs": [
    {
     "name": "stdout",
     "output_type": "stream",
     "text": [
      "error:  183  duplicate entry or constraint issue\n"
     ]
    }
   ],
   "source": [
    "db.insert_table(res)"
   ]
  },
  {
   "cell_type": "code",
   "execution_count": 10,
   "metadata": {},
   "outputs": [
    {
     "name": "stdout",
     "output_type": "stream",
     "text": [
      "473\n"
     ]
    }
   ],
   "source": [
    "print(len(res))"
   ]
  },
  {
   "cell_type": "code",
   "execution_count": null,
   "metadata": {},
   "outputs": [],
   "source": []
  }
 ],
 "metadata": {
  "kernelspec": {
   "display_name": "Python 3",
   "language": "python",
   "name": "python3"
  },
  "language_info": {
   "codemirror_mode": {
    "name": "ipython",
    "version": 3
   },
   "file_extension": ".py",
   "mimetype": "text/x-python",
   "name": "python",
   "nbconvert_exporter": "python",
   "pygments_lexer": "ipython3",
   "version": "3.11.9"
  }
 },
 "nbformat": 4,
 "nbformat_minor": 2
}
